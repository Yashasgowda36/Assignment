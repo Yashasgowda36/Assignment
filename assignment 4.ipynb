{
 "cells": [
  {
   "cell_type": "raw",
   "id": "d5662bb6",
   "metadata": {},
   "source": [
    "1. What exactly is []?\n",
    "Ans: [] is called list and it can store various data types."
   ]
  },
  {
   "cell_type": "code",
   "execution_count": 1,
   "id": "106b14c9",
   "metadata": {},
   "outputs": [
    {
     "data": {
      "text/plain": [
       "[2, 4, 'hello', 6, 8, 10]"
      ]
     },
     "execution_count": 1,
     "metadata": {},
     "output_type": "execute_result"
    }
   ],
   "source": [
    "#2. In a list of values stored in a variable called spam, how would you assign the value 'hello' as the third value? \n",
    "#(Assume [2, 4, 6, 8, 10] are in spam.)\n",
    "spam=[2,4,6,8,10]\n",
    "spam.insert(2,\"hello\")\n",
    "spam"
   ]
  },
  {
   "cell_type": "code",
   "execution_count": 2,
   "id": "f9eff87d",
   "metadata": {},
   "outputs": [
    {
     "data": {
      "text/plain": [
       "'d'"
      ]
     },
     "execution_count": 2,
     "metadata": {},
     "output_type": "execute_result"
    }
   ],
   "source": [
    "#3. What is the value of spam[int(int('3' * 2) / 11)]?\n",
    "spam=['a','b','c','d']\n",
    "spam[int(int('3'*2)/11)]\n",
    "# Ans: 'd'"
   ]
  },
  {
   "cell_type": "code",
   "execution_count": 3,
   "id": "2f611976",
   "metadata": {},
   "outputs": [
    {
     "data": {
      "text/plain": [
       "'d'"
      ]
     },
     "execution_count": 3,
     "metadata": {},
     "output_type": "execute_result"
    }
   ],
   "source": [
    "#4. What is the value of spam[-1]?\n",
    "spam[-1]\n",
    "#Ans: the o/p for the following code is 'd', because spam[-1] is the index value of last location."
   ]
  },
  {
   "cell_type": "code",
   "execution_count": 4,
   "id": "05631669",
   "metadata": {},
   "outputs": [
    {
     "data": {
      "text/plain": [
       "['a', 'b']"
      ]
     },
     "execution_count": 4,
     "metadata": {},
     "output_type": "execute_result"
    }
   ],
   "source": [
    "#5. What is the value of spam[:2]?\n",
    "spam[:2]\n",
    "# Ans: the o/p is ['a','b']"
   ]
  },
  {
   "cell_type": "code",
   "execution_count": 6,
   "id": "1a6077a8",
   "metadata": {},
   "outputs": [],
   "source": [
    "# Let's pretend bacon has the list [3.14, 'cat,' 11, 'cat,' True] for the next three questions.\n",
    "bacon=[3.14,'cat',11,'cat',True]"
   ]
  },
  {
   "cell_type": "code",
   "execution_count": 7,
   "id": "7631a2a0",
   "metadata": {},
   "outputs": [
    {
     "data": {
      "text/plain": [
       "1"
      ]
     },
     "execution_count": 7,
     "metadata": {},
     "output_type": "execute_result"
    }
   ],
   "source": [
    "# 6. What is the value of bacon.index('cat')?\n",
    "bacon.index('cat')\n",
    "# Ans: the followinf gives the index position of the string \"cat\""
   ]
  },
  {
   "cell_type": "code",
   "execution_count": 8,
   "id": "ddf527b9",
   "metadata": {},
   "outputs": [
    {
     "data": {
      "text/plain": [
       "[3.14, 'cat', 11, 'cat', True, 99]"
      ]
     },
     "execution_count": 8,
     "metadata": {},
     "output_type": "execute_result"
    }
   ],
   "source": [
    "#7. How does bacon.append(99) change the look of the list value in bacon?\n",
    "bacon.append(99)\n",
    "bacon\n",
    "# Ans: [3.14, 'cat', 11, 'cat', True, 99] it will add the value into list on to it's last position."
   ]
  },
  {
   "cell_type": "code",
   "execution_count": 9,
   "id": "13a435a0",
   "metadata": {},
   "outputs": [
    {
     "data": {
      "text/plain": [
       "[3.14, 11, 'cat', True, 99]"
      ]
     },
     "execution_count": 9,
     "metadata": {},
     "output_type": "execute_result"
    }
   ],
   "source": [
    "#8. How does bacon.remove('cat') change the look of the list in bacon?\n",
    "bacon.remove('cat')\n",
    "bacon\n",
    "# Ans: [3.14, 11, 'cat', True, 99] this removes 'cat' from the list and returns remaining values."
   ]
  },
  {
   "cell_type": "raw",
   "id": "661be8a3",
   "metadata": {},
   "source": [
    "9. What are the list concatenation and list replication operators?\n",
    "Ans: The operator for list Concatenation is '+' and for replication is '*'"
   ]
  },
  {
   "cell_type": "raw",
   "id": "c16c5c08",
   "metadata": {},
   "source": [
    "10. What is difference between the list methods append() and insert()?\n",
    "Ans: append() adds the data to tail position in the data set.\n",
    "        insert() adds the data to a specific index location in a data set."
   ]
  },
  {
   "cell_type": "raw",
   "id": "daeed04c",
   "metadata": {},
   "source": [
    "11. What are the two methods for removing items from a list?\n",
    "Ans: method to remove items is using .remove() \n",
    "    another method to remove items is using .clear()"
   ]
  },
  {
   "cell_type": "raw",
   "id": "315db0e0",
   "metadata": {},
   "source": [
    "12. Describe how list values and string values are identical.\n",
    "Ans: Both list and Strings can be passed to len function, have indexes and slices, used in for loops can be concatenated and replicated."
   ]
  },
  {
   "cell_type": "raw",
   "id": "867b7d3d",
   "metadata": {},
   "source": [
    "13. What's the difference between tuples and lists?\n",
    "Ans: tuples:\n",
    "            they are immutable, but indexable and slicable. And tuples are represented by curve brackets\n",
    "    lists:\n",
    "            values cannot be changed at all and is represented by square brackets."
   ]
  },
  {
   "cell_type": "raw",
   "id": "93632a3a",
   "metadata": {},
   "source": [
    "14. How do you type a tuple value that only contains the integer 42?\n",
    "Ans: (42,)"
   ]
  },
  {
   "cell_type": "code",
   "execution_count": 34,
   "id": "85d9a46f",
   "metadata": {},
   "outputs": [],
   "source": [
    "# 15. How do you get a list value's tuple form? How do you get a tuple value's list form?\n",
    "t1=[\"yashs\",35,\"gowda\"]\n",
    "tuple(t)\n",
    "\n",
    "\n",
    "t=(\"shylesh\",25,\"gowda\")\n",
    "list(t)"
   ]
  },
  {
   "cell_type": "raw",
   "id": "2fc34f7e",
   "metadata": {},
   "source": [
    "16. Variables that \"contain\" list values are not necessarily lists themselves. Instead, what do they contain?\n",
    "Ans : They contain references to list values."
   ]
  },
  {
   "cell_type": "raw",
   "id": "ef9eaaa4",
   "metadata": {},
   "source": [
    "17. How do you distinguish between copy.copy() and copy.deepcopy()?\n",
    "Ans: copy.copy() function will do a shallow copy of the list\n",
    "    copy.deepcopy() function will do a deep copy of a list."
   ]
  }
 ],
 "metadata": {
  "kernelspec": {
   "display_name": "Python 3 (ipykernel)",
   "language": "python",
   "name": "python3"
  },
  "language_info": {
   "codemirror_mode": {
    "name": "ipython",
    "version": 3
   },
   "file_extension": ".py",
   "mimetype": "text/x-python",
   "name": "python",
   "nbconvert_exporter": "python",
   "pygments_lexer": "ipython3",
   "version": "3.9.12"
  }
 },
 "nbformat": 4,
 "nbformat_minor": 5
}
