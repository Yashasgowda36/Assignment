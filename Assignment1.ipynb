{
 "cells": [
  {
   "cell_type": "raw",
   "id": "9b39b58a",
   "metadata": {},
   "source": [
    "1. In the below elements which of them are values or an expression? eg:- values can be\n",
    "integer or string and expressions will be mathematical operators.\n",
    "\n",
    "--> *        = expression\n",
    "    \"hello\"  = string --> Values\n",
    "    -87.8    = float --> Values\n",
    "    -        = expression\n",
    "    /        = expression\n",
    "    +        = expression\n",
    "    6        = integer --> Values"
   ]
  },
  {
   "cell_type": "raw",
   "id": "5fb0feb8",
   "metadata": {},
   "source": [
    "2.What is the difference between string and variable?\n",
    "-->A string is a value representing text enclosed in single or double quotes.\n",
    "   A variable is a name that can refer/store any value."
   ]
  },
  {
   "cell_type": "raw",
   "id": "d02fde69",
   "metadata": {},
   "source": [
    "3. Describe three different data types.\n",
    "-->Integer --> which refers to the whole number.\n",
    "   string  -->  A string is a value representing text enclosed in single or double quotes.\n",
    "   Boolean --> Which Refers to \"True\" or \"False\""
   ]
  },
  {
   "cell_type": "raw",
   "id": "5bb4f7ff",
   "metadata": {},
   "source": [
    "4. What is an expression made up of? What do all expressions do?\n",
    "-->Expressions are made up of Operators and operands.All experssions are used to perform Mathematical and logical operators.\n",
    "    "
   ]
  },
  {
   "cell_type": "raw",
   "id": "e6efeac3",
   "metadata": {},
   "source": [
    " 5. This assignment statements, like spam = 10. What is the difference between an\n",
    "expression and a statement?\n",
    "-->The expressions are defined by the user and statements are pre-defined in the program.\n",
    "   spam=10 is an expression.\n",
    "   print(spam) is a statement.\n",
    "    \n",
    "    "
   ]
  },
  {
   "cell_type": "raw",
   "id": "57422052",
   "metadata": {},
   "source": [
    "6. After running the following code, what does the variable bacon contain?\n",
    "bacon = 22\n",
    "bacon + 1\n",
    "-->Output = 23"
   ]
  },
  {
   "cell_type": "raw",
   "id": "87ad1673",
   "metadata": {},
   "source": [
    "7. What should the values of the following two terms be?\n",
    "\n",
    "\"spam\"+ \"spamspam\"\n",
    "\"spam\"*3\n",
    "\n",
    "-->output = 'spamspamspam'"
   ]
  },
  {
   "cell_type": "raw",
   "id": "d1921527",
   "metadata": {},
   "source": [
    "8. Why is eggs a valid variable name while 100 is invalid?\n",
    "\n",
    "--> eggs is a valid variable name because variable name can starts with alaphabatic.\n",
    "    100  is not valid variable because variable cannot starts with numberic value."
   ]
  },
  {
   "cell_type": "raw",
   "id": "b14d1d84",
   "metadata": {},
   "source": [
    "9. What three functions can be used to get the integer, floating-point number, or string\n",
    "version of a value?\n",
    "\n",
    "--> The three functions can be used are:-\n",
    "    int() for an integer\n",
    "    float() for a floatin point number\n",
    "    str() for a string values.\n",
    "    "
   ]
  },
  {
   "cell_type": "raw",
   "id": "0f9e7f8a",
   "metadata": {},
   "source": [
    "10. Why does this expression cause an error? How can you fix it?\n",
    "    'I have eaten '+99+' burritos'\n",
    "    \n",
    "--> Because integer cannot be concatenate with string.\n",
    "    we can fix the error by converting int to str , 99 should be enclosed with quotes \" 99 \"\n",
    "    'I have eaten '+'99'+' burritos'\n",
    "    "
   ]
  }
 ],
 "metadata": {
  "kernelspec": {
   "display_name": "Python 3",
   "language": "python",
   "name": "python3"
  },
  "language_info": {
   "codemirror_mode": {
    "name": "ipython",
    "version": 3
   },
   "file_extension": ".py",
   "mimetype": "text/x-python",
   "name": "python",
   "nbconvert_exporter": "python",
   "pygments_lexer": "ipython3",
   "version": "3.8.8"
  }
 },
 "nbformat": 4,
 "nbformat_minor": 5
}
