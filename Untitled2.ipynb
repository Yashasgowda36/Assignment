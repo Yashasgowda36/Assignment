{
 "cells": [
  {
   "cell_type": "raw",
   "id": "895b840e",
   "metadata": {},
   "source": [
    "1. What does an empty dictionary's code look like?\n",
    "Ans:d={}"
   ]
  },
  {
   "cell_type": "raw",
   "id": "ab602657",
   "metadata": {},
   "source": [
    "2.What is the value of a dictionary value with the key 'foo' and the value 42?\n",
    "Ans:d = {'foo':42}"
   ]
  },
  {
   "cell_type": "raw",
   "id": "dcf03cf3",
   "metadata": {},
   "source": [
    "3.What is the most significant distinction between a dictionary and a list?\n",
    "Ans:Dictionaries are represented by {} while list are represented by []. Dictionary items are unordered and list items are ordered."
   ]
  },
  {
   "cell_type": "raw",
   "id": "46258681",
   "metadata": {},
   "source": [
    "4.What happens if you try to access spam['foo'] if spam is {'bar': 100}?\n",
    "Ans:We will get keyerror: 'foo'"
   ]
  },
  {
   "cell_type": "raw",
   "id": "67a17f33",
   "metadata": {},
   "source": [
    "5.If a dictionary is stored in spam, what is the difference between the expressions 'cat' in spam and 'cat' in spam.keys()?\n",
    "Ans:No difference. Operators checks whether a value exists as a key. "
   ]
  },
  {
   "cell_type": "raw",
   "id": "47cd6317",
   "metadata": {},
   "source": [
    "6.If a dictionary is stored in spam, what is the difference between the expressions 'cat' in spam and 'cat' in spam.values()?\n",
    "Ans:'cat' in spam checks whether there is a 'cat' key in the dictionary,while 'cat' in spam.values() checks whether there is a value 'cat' for one of the keys in spam."
   ]
  },
  {
   "cell_type": "raw",
   "id": "2e23916f",
   "metadata": {},
   "source": [
    "7.What is a shortcut for the following code?\n",
    "if 'color' not in spam:\n",
    "spam['color'] = 'black'\n",
    "Ans:spam.setdefault('color','black')"
   ]
  }
 ],
 "metadata": {
  "kernelspec": {
   "display_name": "Python 3",
   "language": "python",
   "name": "python3"
  },
  "language_info": {
   "codemirror_mode": {
    "name": "ipython",
    "version": 3
   },
   "file_extension": ".py",
   "mimetype": "text/x-python",
   "name": "python",
   "nbconvert_exporter": "python",
   "pygments_lexer": "ipython3",
   "version": "3.8.8"
  }
 },
 "nbformat": 4,
 "nbformat_minor": 5
}
