{
 "cells": [
  {
   "cell_type": "raw",
   "id": "53d70454",
   "metadata": {},
   "source": [
    "1.What are the two values of the Boolean data type? How do you write them?\n",
    "Ans: The two values of Boolean data type are 0 and 1, they are written as True and False"
   ]
  },
  {
   "cell_type": "raw",
   "id": "ccd33318",
   "metadata": {},
   "source": [
    "2. What are the three different types of Boolean operators?\n",
    "Ans: The three different types of Boolean Operators are and, or, not"
   ]
  },
  {
   "cell_type": "raw",
   "id": "9e6b1c7c",
   "metadata": {},
   "source": [
    "3. Make a list of each Boolean operator's truth tables (i.e. every possible combination of Boolean values for the operator and what it evaluate ).\n",
    "\n",
    "AND GATE \n",
    "True and True = True\n",
    "True and False = False\n",
    "False and True = False\n",
    "False and False = False\n",
    "\n",
    "OR GATE\n",
    "True or True = True\n",
    "True or False = True\n",
    "False or True = True\n",
    "False or False = False\n",
    "\n",
    "NOT GATE\n",
    "not (True) = False\n",
    "not (False) = True"
   ]
  },
  {
   "cell_type": "raw",
   "id": "5380e308",
   "metadata": {},
   "source": [
    "4. What are the values of the following expressions?\n",
    "    a. (5 > 4) and (3 == 5)\n",
    "    False\n",
    "    \n",
    "    b. not (5 > 4)\n",
    "    False\n",
    "    \n",
    "    c. (5 > 4) or (3 == 5)\n",
    "    True\n",
    "    \n",
    "    d. not ((5 > 4) or (3 == 5))\n",
    "    False\n",
    "    \n",
    "    e. (True and True) and (True == False)\n",
    "    False\n",
    "    \n",
    "    f. (not False) or (not True)\n",
    "    True"
   ]
  },
  {
   "cell_type": "raw",
   "id": "1b593aac",
   "metadata": {},
   "source": [
    "5. What are the six comparison operators?\n",
    "The six comparison operators are\n",
    "    ==, !=, >, <, >=, <="
   ]
  },
  {
   "cell_type": "raw",
   "id": "9824e09e",
   "metadata": {},
   "source": [
    "6. How do you tell the difference between the equal to and assignment operators?Describe a condition and when you would use one.\n",
    "Ans:\n",
    "The equal operator compares the value or equality of two objects\n",
    "5==5, 8==8\n",
    "\n",
    "The assignment operator is used to assign the value on the right to the variable on the left.\n",
    "a=10, b=20"
   ]
  },
  {
   "cell_type": "code",
   "execution_count": 17,
   "id": "206d8a09",
   "metadata": {},
   "outputs": [
    {
     "name": "stdout",
     "output_type": "stream",
     "text": [
      "bacon\n"
     ]
    }
   ],
   "source": [
    "#7. Identify the three blocks in this code:\n",
    "spam = 0\n",
    "if spam == 10:\n",
    "    print('eggs')\n",
    "if spam > 5:\n",
    "    print('bacon')\n",
    "else:\n",
    "    print('ham')\n",
    "    print('spam')\n",
    "    print('spam')\n",
    "    \n",
    "  # if, if , else blocks\n"
   ]
  },
  {
   "cell_type": "code",
   "execution_count": 25,
   "id": "63cfbb29",
   "metadata": {},
   "outputs": [
    {
     "name": "stdout",
     "output_type": "stream",
     "text": [
      "Hello\n",
      "Greeting!\n"
     ]
    }
   ],
   "source": [
    "#8. Write code that prints Hello if 1 is stored in spam, prints Howdy if 2 is stored in spam, and prints Greetings! \n",
    "# if anything else is stored in spam.\n",
    "spam = 1\n",
    "if spam == 1:\n",
    "    print('Hello')\n",
    "if spam == 2:\n",
    "    print('Howdy')\n",
    "else:\n",
    "    print('Greeting!')"
   ]
  },
  {
   "cell_type": "raw",
   "id": "dfc83e38",
   "metadata": {},
   "source": [
    "9.If your programme is stuck in an endless loop, what keys you’ll press?\n",
    "  Ans: Ctrl + C"
   ]
  },
  {
   "cell_type": "raw",
   "id": "2bea08bd",
   "metadata": {},
   "source": [
    "10. How can you tell the difference between break and continue?\n",
    "Ans: \n",
    "\"Break\" statement stops the execution of the inner most loop and starts exectuting the next line of the code after the block.\n",
    "\n",
    "The \"continue\" keyword is used to end the current iteration in a for loop (or a while loop), and continues to the next iteration."
   ]
  },
  {
   "cell_type": "raw",
   "id": "52e976b7",
   "metadata": {},
   "source": [
    "11. In a for loop, what is the difference between range(10), range(0, 10), and range(0, 10, 1)?\n",
    "in range(10): the start and step value will be default as 1\n",
    "\n",
    "in range(0,10): the start and stop index values are pre defined \n",
    "\n",
    "in range(0,10,1): in this case start, stop and step values are described "
   ]
  },
  {
   "cell_type": "code",
   "execution_count": 33,
   "id": "46fcb041",
   "metadata": {},
   "outputs": [
    {
     "name": "stdout",
     "output_type": "stream",
     "text": [
      "1 2 3 4 5 6 7 8 9 10 "
     ]
    }
   ],
   "source": [
    "\"\"\"\n",
    "12. Write a short program that prints the numbers 1 to 10 using a for loop. \n",
    "Then write an equivalent program that prints the numbers 1 to 10 using a while loop.\n",
    "\"\"\"\n",
    "for i in range(1,11):\n",
    "    print(i,end=\" \")"
   ]
  },
  {
   "cell_type": "code",
   "execution_count": 36,
   "id": "f52f71aa",
   "metadata": {},
   "outputs": [
    {
     "name": "stdout",
     "output_type": "stream",
     "text": [
      "1 2 3 4 5 6 7 8 9 10 "
     ]
    }
   ],
   "source": [
    "# 12\n",
    "i=1\n",
    "while i< 11:\n",
    "    print(i,end=\" \")\n",
    "    i=i+1"
   ]
  },
  {
   "cell_type": "raw",
   "id": "0b6ba67a",
   "metadata": {},
   "source": [
    " 13. If you had a function named bacon() inside a module named spam, how would you call it after importing spam?\n",
    "    bacon()"
   ]
  }
 ],
 "metadata": {
  "kernelspec": {
   "display_name": "Python 3 (ipykernel)",
   "language": "python",
   "name": "python3"
  },
  "language_info": {
   "codemirror_mode": {
    "name": "ipython",
    "version": 3
   },
   "file_extension": ".py",
   "mimetype": "text/x-python",
   "name": "python",
   "nbconvert_exporter": "python",
   "pygments_lexer": "ipython3",
   "version": "3.9.12"
  }
 },
 "nbformat": 4,
 "nbformat_minor": 5
}
