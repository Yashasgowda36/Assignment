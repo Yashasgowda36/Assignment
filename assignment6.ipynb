{
 "cells": [
  {
   "cell_type": "raw",
   "id": "0011ff08",
   "metadata": {},
   "source": [
    "1. What are escape characters, and how do you use them?\n",
    "Ans: \\n and \\t are the escape characters. Escape characters represent characters in string values that would otherwise be difficult or impossible to type into code."
   ]
  },
  {
   "cell_type": "raw",
   "id": "5e1670d7",
   "metadata": {},
   "source": [
    "2. What do the escape characters n and t stand for?\n",
    "Ans: \\n is a newline, \\t is a tab"
   ]
  },
  {
   "cell_type": "raw",
   "id": "a1fffa5f",
   "metadata": {},
   "source": [
    "3. What is the way to include backslash characters in a string?\n",
    "Ans:The \\\\ escape character will represent the backslash character in a string"
   ]
  },
  {
   "cell_type": "raw",
   "id": "af3f3616",
   "metadata": {},
   "source": [
    "4. The string \"Howl's Moving Castle\" is a correct value. Why isn't the single quote character in the word Howl's not escaped a problem?\n",
    "Ans:  The string \"Howl's Moving Castle\" escaped the problem because it is wrapped inside double quotes. if its wrapped inside single quotes then we have to use escape character \\' to show single quote in the final output\n",
    "'Howl\\'s Moving Castle' -> 'Howl's Moving Castle'"
   ]
  },
  {
   "cell_type": "code",
   "execution_count": 40,
   "id": "495bfd04",
   "metadata": {},
   "outputs": [
    {
     "name": "stdout",
     "output_type": "stream",
     "text": [
      "we are the indians\n",
      "    and we were once called as \n",
      "    golden bird\n"
     ]
    }
   ],
   "source": [
    "#5. How do you write a string of newlines if you don't want to use the n character?\n",
    "#Ans: Multiline string allow you to use newlines in string without the \\n escape character\n",
    " #   Example\n",
    "a='''we are the indians\n",
    "    and we were once called as \n",
    "    golden bird'''\n",
    "print(a)"
   ]
  },
  {
   "cell_type": "raw",
   "id": "10bc7256",
   "metadata": {},
   "source": [
    "#6. What are the values of the given expressions?\n",
    "'Hello, world!'[1]\n",
    "Ans: 'e'\n",
    "\n",
    "'Hello, world!'[0:5]\n",
    "Ans: 'Hello'\n",
    "\n",
    "'Hello, world!'[:5]\n",
    "Ans: 'Hello'\n",
    "\n",
    "'Hello, world!'[3:]\n",
    "Ans: 'lo, world!'"
   ]
  },
  {
   "cell_type": "raw",
   "id": "23d18126",
   "metadata": {},
   "source": [
    "7. What are the values of the following expressions?\n",
    "'Hello'.upper()\n",
    "Ans: 'HELLO'\n",
    "    \n",
    "'Hello'.upper().isupper()\n",
    "Ans: True\n",
    "    \n",
    "'Hello'.upper().lower()\n",
    "Ans: 'hello'"
   ]
  },
  {
   "cell_type": "raw",
   "id": "11a512fc",
   "metadata": {},
   "source": [
    "8. What are the values of the following expressions?\n",
    "'Remember, remember, the fifth of July.'.split()\n",
    "Ans: ['Remember,', 'remember,', 'the', 'fifth', 'of', 'July.']\n",
    "\n",
    "    '-'.join('There can only one.'.split())\n",
    "Ans: 'There-can-only-one.'"
   ]
  },
  {
   "cell_type": "raw",
   "id": "6ffc808b",
   "metadata": {},
   "source": [
    "9. What are the methods for right-justifying, left-justifying, and centering a string?\n",
    "Ans: The rjust(),ljust(),center() string methods, respectively."
   ]
  },
  {
   "cell_type": "raw",
   "id": "5363ff1c",
   "metadata": {},
   "source": [
    "10. What is the best way to remove whitespace characters from the start or end?\n",
    "Ans: The lstrip() and rstrip() methods remove whitesapce characters from the left and right ends of a string respectively"
   ]
  }
 ],
 "metadata": {
  "kernelspec": {
   "display_name": "Python 3 (ipykernel)",
   "language": "python",
   "name": "python3"
  },
  "language_info": {
   "codemirror_mode": {
    "name": "ipython",
    "version": 3
   },
   "file_extension": ".py",
   "mimetype": "text/x-python",
   "name": "python",
   "nbconvert_exporter": "python",
   "pygments_lexer": "ipython3",
   "version": "3.9.12"
  }
 },
 "nbformat": 4,
 "nbformat_minor": 5
}
