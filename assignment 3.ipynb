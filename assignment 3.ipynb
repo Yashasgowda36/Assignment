{
 "cells": [
  {
   "cell_type": "raw",
   "id": "a78a4ee3",
   "metadata": {},
   "source": [
    "1. Why are functions advantageous to have in your programs?\n",
    "Ans: Functions reduce the time for duplicate codes, main advantage is reusability of code."
   ]
  },
  {
   "cell_type": "raw",
   "id": "f7ba8f76",
   "metadata": {},
   "source": [
    "2. When does the code in a function run: when it's specified or when it's called?\n",
    "Ans: The code in a function run when it is \"called\"."
   ]
  },
  {
   "cell_type": "raw",
   "id": "1d9227c4",
   "metadata": {},
   "source": [
    "3. What statement creates a function?\n",
    "Ans: \"def\" statement creates a function."
   ]
  },
  {
   "cell_type": "raw",
   "id": "edfa28fa",
   "metadata": {},
   "source": [
    "4. What is the difference between a function and a function call?\n",
    "Ans: \n",
    "A function is a block of code that does a particular operation and returns a result.\n",
    "\n",
    "A function call is the code used to pass control to a function."
   ]
  },
  {
   "cell_type": "raw",
   "id": "79bf9326",
   "metadata": {},
   "source": [
    "5. How many global scopes are there in a Python program? How many local scopes?\n",
    "Ans: There are \"one\" global scopes and one local scope created when a function is called."
   ]
  },
  {
   "cell_type": "raw",
   "id": "3b1cb12b",
   "metadata": {},
   "source": [
    "6. What happens to variables in a local scope when the function call returns?\n",
    "Ans: When a function returns, the local scope is destroyed, and all the variables in it are forgotten."
   ]
  },
  {
   "cell_type": "raw",
   "id": "722a6f5b",
   "metadata": {},
   "source": [
    "7. What is the concept of a return value? Is it possible to have a return value in an expression?\n",
    "Ans: A return value is the value that a function call evaluates to. Like any value, a return value can be used as part of an expression."
   ]
  },
  {
   "cell_type": "raw",
   "id": "884e195f",
   "metadata": {},
   "source": [
    "8. If a function does not have a return statement, what is the return value of a call to that function?\n",
    "Ans:  If there is no return statement for a function, its return value is None."
   ]
  },
  {
   "cell_type": "raw",
   "id": "5262e5ac",
   "metadata": {},
   "source": [
    "9. How do you make a function variable refer to the global variable?\n",
    "Ans:  If you want to refer to a global variable in a function, you can use the \"global\" keyword to declare which variables are global."
   ]
  },
  {
   "cell_type": "raw",
   "id": "3dd03aef",
   "metadata": {},
   "source": [
    "10. What is the data type of None?\n",
    "Ans: The data type of None is NoneType."
   ]
  },
  {
   "cell_type": "raw",
   "id": "3ec99924",
   "metadata": {},
   "source": [
    "11. What does the sentence import areallyourpetsnamederic do?\n",
    "Ans: That import statement imports a module named areallyourpetsnamederic."
   ]
  },
  {
   "cell_type": "raw",
   "id": "4d93e565",
   "metadata": {},
   "source": [
    "12. If you had a bacon() feature in a spam module, what would you call it after importing spam?\n",
    "Ans: This function can be called with spam.bacon()."
   ]
  },
  {
   "cell_type": "raw",
   "id": "fe46a644",
   "metadata": {},
   "source": [
    "13. What can you do to save a programme from crashing if it encounters an error?\n",
    "Ans: Place the line of code that might cause an error in a try clause and use except block to handle the error."
   ]
  },
  {
   "cell_type": "raw",
   "id": "99203405",
   "metadata": {},
   "source": [
    "14. What is the purpose of the try clause? What is the purpose of the except clause?\n",
    "ANS:The code that could potentially cause an error goes in the try clause. The code that executes if an error happens goes in the except clause."
   ]
  }
 ],
 "metadata": {
  "kernelspec": {
   "display_name": "Python 3 (ipykernel)",
   "language": "python",
   "name": "python3"
  },
  "language_info": {
   "codemirror_mode": {
    "name": "ipython",
    "version": 3
   },
   "file_extension": ".py",
   "mimetype": "text/x-python",
   "name": "python",
   "nbconvert_exporter": "python",
   "pygments_lexer": "ipython3",
   "version": "3.9.12"
  }
 },
 "nbformat": 4,
 "nbformat_minor": 5
}
